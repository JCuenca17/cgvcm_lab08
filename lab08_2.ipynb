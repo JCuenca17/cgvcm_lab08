{
 "cells": [
  {
   "cell_type": "code",
   "execution_count": 15,
   "metadata": {},
   "outputs": [
    {
     "name": "stdout",
     "output_type": "stream",
     "text": [
      "Imagen guardada correctamente como 'mi_dibujo.png'\n"
     ]
    }
   ],
   "source": [
    "import cv2\n",
    "import numpy as np\n",
    "\n",
    "# Creamos una imagen en blanco\n",
    "img = np.zeros((512, 512, 3))\n",
    "\n",
    "# Variables para rastrear el estado del mouse\n",
    "drawing = False\n",
    "prev_x, prev_y = -1, -1\n",
    "\n",
    "# Función para dibujar líneas\n",
    "def draw_line(event, x, y, flags, param):\n",
    "    global prev_x, prev_y, drawing\n",
    "\n",
    "    if event == cv2.EVENT_LBUTTONDOWN:\n",
    "        drawing = True\n",
    "        prev_x, prev_y = x, y\n",
    "    elif event == cv2.EVENT_MOUSEMOVE:\n",
    "        if drawing:\n",
    "            cv2.line(img, (prev_x, prev_y), (x, y), (0, 255, 0), 2)\n",
    "            prev_x, prev_y = x, y\n",
    "    elif event == cv2.EVENT_LBUTTONUP:\n",
    "        drawing = False\n",
    "\n",
    "# Ventana para dibujar\n",
    "cv2.namedWindow(winname='my_drawing')\n",
    "cv2.setMouseCallback('my_drawing', draw_line)\n",
    "\n",
    "while True:\n",
    "    cv2.imshow('my_drawing', img)\n",
    "    if cv2.waitKey(20) & 0xFF == 27:  # Salir al presionar la tecla Escape\n",
    "        break\n",
    "\n",
    "cv2.destroyAllWindows()\n",
    "cv2.imwrite(\"mi_dibujo.png\", img)\n",
    "\n",
    "print(\"Imagen guardada correctamente como 'mi_dibujo.png'\")\n"
   ]
  },
  {
   "cell_type": "code",
   "execution_count": null,
   "metadata": {},
   "outputs": [],
   "source": []
  }
 ],
 "metadata": {
  "kernelspec": {
   "display_name": "Python 3",
   "language": "python",
   "name": "python3"
  },
  "language_info": {
   "codemirror_mode": {
    "name": "ipython",
    "version": 3
   },
   "file_extension": ".py",
   "mimetype": "text/x-python",
   "name": "python",
   "nbconvert_exporter": "python",
   "pygments_lexer": "ipython3",
   "version": "3.6.6"
  }
 },
 "nbformat": 4,
 "nbformat_minor": 2
}
